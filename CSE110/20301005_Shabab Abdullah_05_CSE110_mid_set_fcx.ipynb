{
 "cells": [
  {
   "cell_type": "markdown",
   "metadata": {
    "colab_type": "text",
    "id": "0ZcT5c9CjT8P"
   },
   "source": [
    "# SUMMER 2020\n",
    "\n",
    "# CSE110 MID\n",
    "**<font color='red'>[MUST MAINTAIN VARIABLE NAMING CONVENTIONS FOR ALL THE TASKS]</font>**\n",
    "\n",
    "**<font color='red'>[Writing comments(explanatory sentences) in any of the code is completely optional]</font>**"
   ]
  },
  {
   "cell_type": "markdown",
   "metadata": {
    "colab_type": "text",
    "id": "hQCnOmw6iWER"
   },
   "source": [
    "# Task 01\n",
    "Mrs. Mishti regularly visits her local ice cream parlor. She is very fond of their butterscotch and vanilla flavors. Depending on her total bill amount, the owner offers her a special discount. The price of one scoop of butterscotch ice cream is **200** taka and the Price of one scoop of vanilla ice cream is **150** taka. The table below shows the discount she will get on her total amount.\n",
    "\n",
    "\n",
    "\n",
    "|Total Amount (TK)|Discount (TK)|\n",
    "|------|------|\n",
    "|0 - 250|No Discount|\n",
    "|251 - 599|35|\n",
    "|600 - 849 |80|\n",
    "|850 - 1000|100|\n",
    "|> 1000|150|\n",
    "\n",
    "Write a python program and take two inputs from the user. The first input will be the number of scoops of butterscotch ice cream and the second input will be the number of scoops of vanilla ice cream. Based on the price of each ice cream, calculate the total amount that Mrs. Mishti will have to pay.   \n",
    "\n",
    " ================================\n",
    "\n",
    "\n",
    "**Sample input(1):**\\\n",
    "1\\\n",
    "0\n",
    "\n",
    "\n",
    "**Sample Output(1):**\\\n",
    "Previous total: 200\\\n",
    "New total after discount: 200\n",
    "\n",
    "\n",
    "*Explanation(1): 1 * 200 + 0 * 150= 200Tk was her bill without discount.  For 200Tk, the discount amount is 0Tk. So, her new bill with a discount is (200-0)= 200Tk.*\n",
    "\n",
    "================================\n",
    "\n",
    "**Sample input 2:**\\\n",
    "4\\\n",
    "10\n",
    "\n",
    "\n",
    "**Sample output 2:**\\\n",
    "Previous total: 2300\\\n",
    "New total after discount: 2150\n",
    "\n",
    "\n",
    "\n",
    "*Explanation(2):   4 * 200 + 10 * 150= 2300Tk was her bill without discount.  For 2300Tk, the discount amount is 150Tk. So, her new bill with a discount is (2300-150)= 2150Tk.*\n",
    "\n",
    "\n",
    "\n",
    "\n"
   ]
  },
  {
   "cell_type": "code",
   "execution_count": 1,
   "metadata": {
    "colab": {},
    "colab_type": "code",
    "id": "P0vIwmbeiWEU"
   },
   "outputs": [
    {
     "name": "stdout",
     "output_type": "stream",
     "text": [
      "Enter the number of scoop of Butterscotch:1\n",
      "Enter the number of scoop of Vanilla:0\n",
      "Price of the ice-cream: 200\n"
     ]
    }
   ],
   "source": [
    "Butterscotch=int(input(\"Enter the number of scoop of Butterscotch:\"))\n",
    "Vanilla=int(input(\"Enter the number of scoop of Vanilla:\"))\n",
    "Total_amount=(Butterscotch*200)+(Vanilla*150)\n",
    "if Total_amount<=250:\n",
    "    print(\"Price of the ice-cream:\",Total_amount)\n",
    "elif Total_amount>=251 and Total_amount <=599:\n",
    "    print(\"Price of the ice-cream:\",Total_amount-35)\n",
    "elif  Total_amount>=600 and Total_amount <=849:\n",
    "    print(\"Price of the ice-cream:\",Total_amount-80)\n",
    "elif  Total_amount>=850 and Total_amount <=1000:\n",
    "    print(\"Price of the ice-cream:\",Total_amount-100)\n",
    "else:\n",
    "    print(\"Price of the ice-cream:\",Total_amount-150)"
   ]
  },
  {
   "cell_type": "markdown",
   "metadata": {
    "colab_type": "text",
    "id": "zUyYKkWViWEd"
   },
   "source": [
    "# Task 02\n",
    "Write a Python program that takes an input from the user and count how many **2** are present.\n",
    "\n",
    " **<font color='red'>[You cannot use the count() function]</font>**\n",
    "\n",
    "\n",
    " \n",
    "  ================================\n",
    " \n",
    "**Sample input 1:**\\\n",
    "19552155  \\\n",
    "**Sample output 1:**\\\n",
    "1\n",
    " \n",
    "  ================================\n",
    "\n",
    "**Sample input 2:**\\\n",
    "81103212 \\\n",
    "**Sample output 2:**\\\n",
    "2"
   ]
  },
  {
   "cell_type": "code",
   "execution_count": 2,
   "metadata": {
    "colab": {},
    "colab_type": "code",
    "id": "_oEJ6XwgiWEh"
   },
   "outputs": [
    {
     "name": "stdout",
     "output_type": "stream",
     "text": [
      "Enter the number=81103212\n",
      "2\n"
     ]
    }
   ],
   "source": [
    "i: int = int(input(\"Enter the number=\"))\n",
    "coun = 0\n",
    "\n",
    "while i != 0:\n",
    "    rem = i % 10\n",
    "\n",
    "    if rem == 2:\n",
    "        coun += 1\n",
    "    i = i // 10\n",
    "print(coun)\n"
   ]
  },
  {
   "cell_type": "markdown",
   "metadata": {
    "colab_type": "text",
    "id": "CEhXrQIhiWEo"
   },
   "source": [
    "# Task 03\n",
    "Write a program that inputs a string and prints the **index** of the **last occurrence** of the character comma (“,”)    in the string. If there is no “,” in the string, print “Not found”.\n",
    "\n",
    "\n",
    "**<font color='red'>( You cannot use the built-in find(),index(), rfind() or rindex() method )**\n",
    "\n",
    "\n",
    " \n",
    "  ================================\n",
    " \n",
    "**Sample input 1:**\\\n",
    "If, you are a gentleman, do not cheat.\\\n",
    "**Sample output 1:**\\\n",
    "23\n",
    " \n",
    "  ================================\n",
    "\n",
    "**Sample input 2:**\\\n",
    "No worries\\\n",
    "**Sample output 2:**\\\n",
    "Not found\n"
   ]
  },
  {
   "cell_type": "code",
   "execution_count": 3,
   "metadata": {
    "colab": {},
    "colab_type": "code",
    "id": "gWQIR06LiWEp"
   },
   "outputs": [
    {
     "name": "stdout",
     "output_type": "stream",
     "text": [
      "Enter the sentence=If, you are a gentleman, do not cheat.\n",
      "23\n"
     ]
    }
   ],
   "source": [
    "s = input(\"Enter the sentence=\")\n",
    "index_x = 0\n",
    "coun = 0\n",
    "\n",
    "for i in range(0, len(s)):\n",
    "    if s[i] == \",\":\n",
    "        coun = coun + 1\n",
    "        index_x = i\n",
    "if coun == 0:\n",
    "    print(\"Not found\")\n",
    "else:\n",
    "    print(index_x)\n"
   ]
  },
  {
   "cell_type": "code",
   "execution_count": null,
   "metadata": {
    "colab": {},
    "colab_type": "code",
    "id": "dDpwG8ImNrFg"
   },
   "outputs": [],
   "source": []
  }
 ],
 "metadata": {
  "colab": {
   "collapsed_sections": [],
   "name": "set 08.ipynb",
   "provenance": []
  },
  "kernelspec": {
   "display_name": "Python 3",
   "language": "python",
   "name": "python3"
  },
  "language_info": {
   "codemirror_mode": {
    "name": "ipython",
    "version": 3
   },
   "file_extension": ".py",
   "mimetype": "text/x-python",
   "name": "python",
   "nbconvert_exporter": "python",
   "pygments_lexer": "ipython3",
   "version": "3.7.4"
  }
 },
 "nbformat": 4,
 "nbformat_minor": 1
}
