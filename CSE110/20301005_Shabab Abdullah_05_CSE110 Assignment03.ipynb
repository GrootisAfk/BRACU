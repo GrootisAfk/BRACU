{
 "cells": [
  {
   "cell_type": "markdown",
   "metadata": {
    "colab_type": "text",
    "id": "xDNsncrtU1yM"
   },
   "source": [
    "# CSE110 Assignment 3\n",
    "\n"
   ]
  },
  {
   "cell_type": "markdown",
   "metadata": {
    "colab_type": "text",
    "id": "gh4GUDaIU1yO"
   },
   "source": [
    "\n",
    "## Write the Python code of the following problems:\n",
    "\n",
    "**<font color='red'>[MUST MAINTAIN VARIABLE NAMING CONVENTIONS FOR ALL THE TASKS]</font>**\n",
    "\n",
    "## Part 1: String\n",
    "\n",
    "\n",
    "\n"
   ]
  },
  {
   "cell_type": "markdown",
   "metadata": {
    "colab_type": "text",
    "id": "KD4EKJf6U1yQ"
   },
   "source": [
    "### Task 1 \n",
    "\n",
    "Write a Python program that will ask the user to input a string (containing exactly one word). Then your program should print a subsequent substring of the given string.\n",
    "\n",
    "**Example1:**\\\n",
    "Input: BANGLA\\\n",
    "Output:\\\n",
    "B\\\n",
    "BA\\\n",
    "BAN\\\n",
    "BANG\\\n",
    "BANGL\\\n",
    "BANGLA\n",
    "\n",
    "**Example2:**\\\n",
    "Input: DREAM\\\n",
    "Output:\\\n",
    "D\\\n",
    "DR\\\n",
    "DRE\\\n",
    "DREA\\\n",
    "DREAM\n",
    "\n",
    "**Hints(1):** Need to use \"for loop\" for this task.\n",
    "\n",
    "**Hints(2):** Need to use print() function for prnting newlines.\n",
    "\n",
    "For example:\\\n",
    "print(1)\\\n",
    "print(2)\n",
    "\n",
    "Output:\\\n",
    "1\\\n",
    "2\n",
    "\n",
    "=====================================================================\n",
    "\n",
    "We need use print(end = \"\") to skip printing the additional newline.\n",
    "\n",
    "For example:\\\n",
    "print(1, end =\" \")\\\n",
    "print(2)\n",
    "\n",
    "Output:(prints the next output right to the previous one)\\\n",
    "12\n",
    "\n",
    "=====================================================================\n",
    "\n",
    "\n",
    "\n",
    "\n"
   ]
  },
  {
   "cell_type": "code",
   "execution_count": 3,
   "metadata": {
    "colab": {},
    "colab_type": "code",
    "executionInfo": {
     "elapsed": 2896,
     "status": "ok",
     "timestamp": 1596646001362,
     "user": {
      "displayName": "Mahrin Tasfe",
      "photoUrl": "https://lh3.googleusercontent.com/a-/AOh14GiH76601-2aLJbCz8n5EaAFZIw6ZcrISRck4LbmlQ=s64",
      "userId": "05682083127640569309"
     },
     "user_tz": -360
    },
    "id": "vJhpmj2XU1yR"
   },
   "outputs": [
    {
     "name": "stdout",
     "output_type": "stream",
     "text": [
      "Enter a word=Shabab\n",
      "\n",
      "S\n",
      "Sh\n",
      "Sha\n",
      "Shab\n",
      "Shaba\n",
      "Shabab\n"
     ]
    }
   ],
   "source": [
    "input=input(\"Enter a word=\")\n",
    "index=0\n",
    "input_length=len(input)\n",
    "for a in range(input_length+1):\n",
    "    substring=input[:index]\n",
    "    index=index+1\n",
    "    print(substring)\n"
   ]
  },
  {
   "cell_type": "markdown",
   "metadata": {
    "colab_type": "text",
    "id": "1Zv__0ZWU1yd"
   },
   "source": [
    "### Task 2\n",
    "\n",
    "Write a Python program that will ask the user to enter two strings (s1, s2) as an input. Then create a mixed string with alternative characters from each string. Any leftover chars will be appended at the end of the result string.\n",
    "\n",
    "**Example 1:**\\\n",
    "Input:\\\n",
    "\"ABCD\"\\\n",
    "\"efgh\"\n",
    "\n",
    "Output:\\\n",
    "AeBfCgDh\n",
    "\n",
    "**Example 2:**\\\n",
    "Input:\\\n",
    "\"ABCDENDFGH\"\\\n",
    "\"ijkl\"\n",
    "\n",
    "Output:\\\n",
    "AiBjCkDlENDFGH\n",
    "\n",
    "**Example 3:**\\\n",
    "Input:\\\n",
    "\"ijkl\"\\\n",
    "\"ABCDENDFGH\"\n",
    "\n",
    "Output:\\\n",
    "iAjBkClDENDFGH\n",
    "\n",
    "*Hint: For adding the leftover characters use string slicing.*\n",
    "\n",
    "\n"
   ]
  },
  {
   "cell_type": "code",
   "execution_count": 1,
   "metadata": {
    "colab": {},
    "colab_type": "code",
    "executionInfo": {
     "elapsed": 2887,
     "status": "ok",
     "timestamp": 1596646001365,
     "user": {
      "displayName": "Mahrin Tasfe",
      "photoUrl": "https://lh3.googleusercontent.com/a-/AOh14GiH76601-2aLJbCz8n5EaAFZIw6ZcrISRck4LbmlQ=s64",
      "userId": "05682083127640569309"
     },
     "user_tz": -360
    },
    "id": "jUiv7ECJU1yd"
   },
   "outputs": [
    {
     "name": "stdout",
     "output_type": "stream",
     "text": [
      "Enter First String=Abdullah\n",
      "Enter Second String=shabab\n",
      "Asbhdaublalbah\n"
     ]
    }
   ],
   "source": [
    "s1=input(\"Enter First String=\")\n",
    "s2=input(\"Enter Second String=\")\n",
    "if len(s1)<len(s2):\n",
    "    for i in range(0,len(s1)):\n",
    "        print(s1[i]+s2[i],end= '')\n",
    "    print(s2[len(s1):])\n",
    "else:\n",
    "    for i in range(0,len(s2)):\n",
    "        print(s1[i]+s2[i],end= '')\n",
    "    print(s1[len(s2):])    "
   ]
  },
  {
   "cell_type": "markdown",
   "metadata": {
    "colab_type": "text",
    "id": "pbdeIVcyU1yi"
   },
   "source": [
    "### Task3\n",
    "\n",
    "Write a Python program that will ask the user to enter a  word as an input. If the length of the input string is less than 4, then your program should print the same string as an output. If the input string’s length is greater than 3, then your program should add “er” at the end of the input string. If the input string already ends with “er”, then add “est” instead. If the input string already ends with “est”, then your program should print the same string as an output.\n",
    "\n",
    "**Example 1:**\\\n",
    "Input: strong\\\n",
    "Output: stronger\n",
    "\n",
    "**Example 2:**\\\n",
    "Input: stronger\\\n",
    "Output: strongest\n",
    "\n",
    "**Example 3:**\\\n",
    "Input: strongest\\\n",
    "Output: strongest\n",
    "\n",
    "**Example 4:**\\\n",
    "Input: abc\\\n",
    "Output: abc\n"
   ]
  },
  {
   "cell_type": "code",
   "execution_count": 1,
   "metadata": {
    "colab": {},
    "colab_type": "code",
    "executionInfo": {
     "elapsed": 1850,
     "status": "ok",
     "timestamp": 1596646006370,
     "user": {
      "displayName": "Mahrin Tasfe",
      "photoUrl": "https://lh3.googleusercontent.com/a-/AOh14GiH76601-2aLJbCz8n5EaAFZIw6ZcrISRck4LbmlQ=s64",
      "userId": "05682083127640569309"
     },
     "user_tz": -360
    },
    "id": "A5df9pmJU1yj"
   },
   "outputs": [
    {
     "name": "stdout",
     "output_type": "stream",
     "text": [
      "Word=abc\n",
      "abc\n"
     ]
    }
   ],
   "source": [
    "word=input(\"Word=\")\n",
    "length=len(word)\n",
    "if length<4:\n",
    "    print(word)\n",
    "if length>3 and not (word.endswitch(\"est\")):\n",
    "    if(word.endswitch(\"er\")):\n",
    "        print(word[:-2]+\"est\")\n",
    "    else:\n",
    "        print(word+\"er\") \n",
    "if length>3 and (word.endswitch(\"est\")):\n",
    "    print(word)\n",
    "\n",
    "\n"
   ]
  },
  {
   "cell_type": "markdown",
   "metadata": {
    "colab_type": "text",
    "id": "PsBbgc4YU1yp"
   },
   "source": [
    "### Task4\n",
    "\n",
    "Write a Python program that will ask the user to input a string (containing exactly one word). Then print code for each character in the String using the ord() function. Use any means necessary.\n",
    "\n",
    "To check if your program is working correctly or not, you can find a list of all correct values from the following website. Look at “Dec” and “Char” columns only, ignore other columns.\\\n",
    "link: http://www.asciitable.com/\n",
    "\n",
    "**Example 1:**\\\n",
    "Input: Programming\\\n",
    "Output:\\\n",
    "P : 80\\\n",
    "r : 114\\\n",
    "o : 111\\\n",
    "g : 103\\\n",
    "r : 114\\\n",
    "a : 97\\\n",
    "m : 109\\\n",
    "m : 109\\\n",
    "i : 105\\\n",
    "n : 110\\\n",
    "g : 103\n",
    "\n",
    "**Example 2:**\\\n",
    "Input: hunger\\\n",
    "Output:\\\n",
    "h : 104\\\n",
    "u : 117\\\n",
    "n : 110\\\n",
    "g : 103\\\n",
    "e : 101\\\n",
    "r : 114 "
   ]
  },
  {
   "cell_type": "code",
   "execution_count": 1,
   "metadata": {
    "colab": {},
    "colab_type": "code",
    "executionInfo": {
     "elapsed": 1803,
     "status": "ok",
     "timestamp": 1596646011602,
     "user": {
      "displayName": "Mahrin Tasfe",
      "photoUrl": "https://lh3.googleusercontent.com/a-/AOh14GiH76601-2aLJbCz8n5EaAFZIw6ZcrISRck4LbmlQ=s64",
      "userId": "05682083127640569309"
     },
     "user_tz": -360
    },
    "id": "r8by7ONZU1ys"
   },
   "outputs": [
    {
     "name": "stdout",
     "output_type": "stream",
     "text": [
      "Enter String=Hungry\n",
      "H : 72\n",
      "u : 117\n",
      "n : 110\n",
      "g : 103\n",
      "r : 114\n",
      "y : 121\n"
     ]
    }
   ],
   "source": [
    "input=input(\"Enter String=\")\n",
    "index=0\n",
    "length= len(input)\n",
    "for index in range(length):\n",
    "    add=input[index]\n",
    "    index+=1\n",
    "    print(add,\":\",(ord(add)))"
   ]
  },
  {
   "cell_type": "markdown",
   "metadata": {
    "colab_type": "text",
    "id": "O8lIVppgU1yw"
   },
   "source": [
    "### Task5\n",
    "\n",
    "Given a word as input in small letters, print the next alphabet in sequence for each alphabet found in the input.\n",
    "\n",
    "**Example1:**\\\n",
    "Input: abcd\\\n",
    "Output: bcde\n",
    "\n",
    "**Example2:**\\\n",
    "Input: the cow\\\n",
    "Output: uif!dpx\n",
    "\n",
    "**Example3: <font color='red'>[Must fulfil this criteria]</font>**\\\n",
    "Input: xyzabc\\\n",
    "Output: yzabcd\n",
    "\n",
    "*Hint: You need to use functions ord() and chr(). The ASCII value of ‘a’ is 97 and ‘z’ is 122.*\n"
   ]
  },
  {
   "cell_type": "code",
   "execution_count": 1,
   "metadata": {
    "colab": {},
    "colab_type": "code",
    "executionInfo": {
     "elapsed": 2889,
     "status": "ok",
     "timestamp": 1596646016804,
     "user": {
      "displayName": "Mahrin Tasfe",
      "photoUrl": "https://lh3.googleusercontent.com/a-/AOh14GiH76601-2aLJbCz8n5EaAFZIw6ZcrISRck4LbmlQ=s64",
      "userId": "05682083127640569309"
     },
     "user_tz": -360
    },
    "id": "Hyvy8WNNU1yx"
   },
   "outputs": [
    {
     "name": "stdout",
     "output_type": "stream",
     "text": [
      "Word=xyzabc\n",
      "yzabcd"
     ]
    }
   ],
   "source": [
    "input=input(\"Word=\")\n",
    "for index in input:\n",
    "    if ord(index)==122:\n",
    "        print(chr(97),end=\"\")\n",
    "    else:\n",
    "        print(chr(ord(index)+1), end=\"\")"
   ]
  },
  {
   "cell_type": "markdown",
   "metadata": {
    "colab_type": "text",
    "id": "AWQJrJW3U1y3"
   },
   "source": [
    "### Task6\n",
    "Given a string, create a new string with all the consecutive duplicates removed. \n",
    "\n",
    "**Example:**\\\n",
    "Input:\\\n",
    "AAABBBBCDDBBECE\\\n",
    "Output:\\\n",
    "ABCDBECE\n",
    "\n",
    "*Hint: You need to make a new string to store your answer. Check whether the current character and the next character are the same, then add that character to the answer.*\n",
    "\n"
   ]
  },
  {
   "cell_type": "code",
   "execution_count": null,
   "metadata": {
    "colab": {},
    "colab_type": "code",
    "executionInfo": {
     "elapsed": 1695,
     "status": "ok",
     "timestamp": 1596646021225,
     "user": {
      "displayName": "Mahrin Tasfe",
      "photoUrl": "https://lh3.googleusercontent.com/a-/AOh14GiH76601-2aLJbCz8n5EaAFZIw6ZcrISRck4LbmlQ=s64",
      "userId": "05682083127640569309"
     },
     "user_tz": -360
    },
    "id": "oNv_JNgUU1y4"
   },
   "outputs": [],
   "source": [
    "string=input(\"Enter a String=\")\n",
    "add=\"\"\n",
    "length=len(string)\n",
    "for index in range(string):\n",
    "    if string[index] !=string[index - 1]:\n",
    "        add += string[index]\n",
    "print(add)\n"
   ]
  },
  {
   "cell_type": "markdown",
   "metadata": {
    "colab_type": "text",
    "id": "mwnPD6m-U1y9"
   },
   "source": [
    "## Part 2: List\n"
   ]
  },
  {
   "cell_type": "markdown",
   "metadata": {
    "colab_type": "text",
    "id": "lPoDvm8YU1y9"
   },
   "source": [
    "### Task 7\n",
    "Write a Python program that reads 10 numbers from the user. After reading each number, print all the numbers that have been entered so far. \n",
    "\n",
    "**Example:**\\\n",
    "After the user enters 3, prints “So far in the list: [3]”\\\n",
    "After the user enters 5, prints “So far in the list: [3, 5]”\\\n",
    "After the user enters 34, prints “So far in the list: [3, 5, 34]”\n"
   ]
  },
  {
   "cell_type": "code",
   "execution_count": null,
   "metadata": {
    "colab": {},
    "colab_type": "code",
    "id": "z26BN9B3U1y_"
   },
   "outputs": [
    {
     "name": "stdout",
     "output_type": "stream",
     "text": [
      "Enter=1\n",
      "[1]\n"
     ]
    }
   ],
   "source": [
    "list=[]\n",
    "for a in range(0,10):\n",
    "    b=int(input(\"Enter=\"))\n",
    "    list.append(b)\n",
    "    print(list)"
   ]
  },
  {
   "cell_type": "markdown",
   "metadata": {
    "colab_type": "text",
    "id": "ZrjtT-I_U1zD"
   },
   "source": [
    "### Task 8\n",
    "Assume, you have been given a list.\n",
    "\n",
    "a_list =  [10, 20, 24, 25, 26, 35, 70]\n",
    "\n",
    "Write a Python program that creates a new list excluding the first and last two elements of the given list and prints the new list. \n",
    "\n",
    "Output: [24, 25, 26]\n",
    "\n",
    "\n",
    "*Hint:You need to use list slicing.*\n"
   ]
  },
  {
   "cell_type": "code",
   "execution_count": 1,
   "metadata": {
    "colab": {},
    "colab_type": "code",
    "id": "3r7Ripj7U1zE"
   },
   "outputs": [
    {
     "name": "stdout",
     "output_type": "stream",
     "text": [
      "[24, 25, 26]\n"
     ]
    }
   ],
   "source": [
    "list=[10,20,24,25,26,35,70]\n",
    "print(list[2:-2])"
   ]
  },
  {
   "cell_type": "markdown",
   "metadata": {
    "colab_type": "text",
    "id": "7a_1pYjfU1zI"
   },
   "source": [
    "### Task 9\n",
    "Assume, you have been given two lists. \n",
    "\n",
    "list_one = [1, 2, 3, 4, 5, 6, 7, 8, 9]\\\n",
    "list_two = [10, 11, 12, -13, -14, -15, -16]\n",
    "\n",
    "Write a Python program that creates a new list with all the even elements of both of the given lists and prints the new list.\n",
    "\n",
    "\n",
    "Output: [2, 4, 6, 8, 10, 12, -14, -16]\n",
    "\n",
    "*Hint: You need to create a third list to store the even elements of the given lists.*\n",
    "\n"
   ]
  },
  {
   "cell_type": "code",
   "execution_count": 1,
   "metadata": {
    "colab": {},
    "colab_type": "code",
    "id": "vToa7yazU1zI"
   },
   "outputs": [
    {
     "ename": "NameError",
     "evalue": "name 'second' is not defined",
     "output_type": "error",
     "traceback": [
      "\u001b[1;31m---------------------------------------------------------------------------\u001b[0m",
      "\u001b[1;31mNameError\u001b[0m                                 Traceback (most recent call last)",
      "\u001b[1;32m<ipython-input-1-2e5da401b04c>\u001b[0m in \u001b[0;36m<module>\u001b[1;34m\u001b[0m\n\u001b[0;32m      1\u001b[0m \u001b[0mfirst\u001b[0m\u001b[1;33m=\u001b[0m\u001b[1;33m[\u001b[0m\u001b[1;36m1\u001b[0m\u001b[1;33m,\u001b[0m\u001b[1;36m2\u001b[0m\u001b[1;33m,\u001b[0m\u001b[1;36m3\u001b[0m\u001b[1;33m,\u001b[0m\u001b[1;36m4\u001b[0m\u001b[1;33m,\u001b[0m\u001b[1;36m5\u001b[0m\u001b[1;33m,\u001b[0m\u001b[1;36m6\u001b[0m\u001b[1;33m,\u001b[0m\u001b[1;36m7\u001b[0m\u001b[1;33m,\u001b[0m\u001b[1;36m8\u001b[0m\u001b[1;33m,\u001b[0m\u001b[1;36m9\u001b[0m\u001b[1;33m]\u001b[0m\u001b[1;33m\u001b[0m\u001b[1;33m\u001b[0m\u001b[0m\n\u001b[1;32m----> 2\u001b[1;33m \u001b[0msecond\u001b[0m\u001b[1;33m[\u001b[0m\u001b[1;36m10\u001b[0m\u001b[1;33m,\u001b[0m\u001b[1;36m11\u001b[0m\u001b[1;33m,\u001b[0m\u001b[1;36m12\u001b[0m\u001b[1;33m,\u001b[0m\u001b[1;33m-\u001b[0m\u001b[1;36m13\u001b[0m\u001b[1;33m,\u001b[0m\u001b[1;33m-\u001b[0m\u001b[1;36m14\u001b[0m\u001b[1;33m,\u001b[0m\u001b[1;33m-\u001b[0m\u001b[1;36m15\u001b[0m\u001b[1;33m,\u001b[0m\u001b[1;33m-\u001b[0m\u001b[1;36m16\u001b[0m\u001b[1;33m]\u001b[0m\u001b[1;33m\u001b[0m\u001b[1;33m\u001b[0m\u001b[0m\n\u001b[0m\u001b[0;32m      3\u001b[0m \u001b[0mmixed_list\u001b[0m\u001b[1;33m=\u001b[0m\u001b[0mfirst\u001b[0m\u001b[1;33m+\u001b[0m\u001b[0msecond\u001b[0m\u001b[1;33m\u001b[0m\u001b[1;33m\u001b[0m\u001b[0m\n\u001b[0;32m      4\u001b[0m \u001b[0mevenList\u001b[0m\u001b[1;33m=\u001b[0m\u001b[1;33m[\u001b[0m\u001b[1;33m]\u001b[0m\u001b[1;33m\u001b[0m\u001b[1;33m\u001b[0m\u001b[0m\n\u001b[0;32m      5\u001b[0m \u001b[1;32mfor\u001b[0m \u001b[0mnum\u001b[0m \u001b[1;32min\u001b[0m \u001b[0mmixed_list\u001b[0m\u001b[1;33m:\u001b[0m\u001b[1;33m\u001b[0m\u001b[1;33m\u001b[0m\u001b[0m\n",
      "\u001b[1;31mNameError\u001b[0m: name 'second' is not defined"
     ]
    }
   ],
   "source": [
    "first=[1,2,3,4,5,6,7,8,9]\n",
    "second[10,11,12,-13,-14,-15,-16]\n",
    "mixed_list=first+second\n",
    "evenList=[]\n",
    "for num in mixed_list:\n",
    "    if num%2==0:\n",
    "        evenList.append(num)\n",
    "print(evenList)        "
   ]
  },
  {
   "cell_type": "markdown",
   "metadata": {
    "colab_type": "text",
    "id": "p5c2R-QeU1zO"
   },
   "source": [
    "### Task 10\n",
    "\n",
    "Assume, you have been given two lists.\\\n",
    "list_one = [1, 2 , 3, 2, 4, 5, 5, 7, 99, 200, 303, 70]\\\n",
    "list_two = [1, 1, 2, 3, 3, 3, 4, 5, 200, 500, -5]\n",
    "\n",
    "Write a Python program that creates a new list with all the unique elements of both the given lists. \n",
    "<font color='red'> **You need to make sure that no duplicates are in the result list**</font> and then finally print the result list.\n",
    "\n",
    "Output: \n",
    "[1, 2, 4, 5, 7, 99, 200, 303, 70, 3, 500, -5]\n",
    "\n",
    "*Hint:You need to create a third list to store the results. Use membership operators (in, not in) to make sure no duplicates are added.*\n",
    "\n"
   ]
  },
  {
   "cell_type": "code",
   "execution_count": 1,
   "metadata": {
    "colab": {},
    "colab_type": "code",
    "id": "EUbQbz5hU1zP"
   },
   "outputs": [
    {
     "name": "stdout",
     "output_type": "stream",
     "text": [
      "[1, 2, 4, 5, 6, 99, 200, 303, 70, 3, 500, -5]\n"
     ]
    }
   ],
   "source": [
    "one=[1,2,2,4,5,5,6,99,200,303,70]\n",
    "two=[1,1,2,3,3,3,4,5,200,500,-5]\n",
    "output=[]\n",
    "for num in one:\n",
    "    if num not in output:\n",
    "        output.append(num)\n",
    "for num in two:\n",
    "    if num not in output:\n",
    "        output.append(num)\n",
    "print(output)        \n",
    "        "
   ]
  },
  {
   "cell_type": "markdown",
   "metadata": {
    "colab_type": "text",
    "id": "wfcSytFVU1zU"
   },
   "source": [
    "### Task 11\n",
    "\n",
    "Write a Python program that reads 5 numbers into a list and prints the largest number and its location on the list. <font color='red'>[You are not allowed to use the max() function here]</font>\n",
    "\n",
    "**Example:**\\\n",
    "Input: 7, 13, 2, 10, 6\\\n",
    "Output:\\\n",
    "“list: [7, 13, 2, 10, 6]”\\\n",
    "“Largest number 13 was found at location 1”.\n",
    "\n",
    "*Hint: Assume, the first input to be the largest value initially and the location of first input which is 0 to be the initial value of the largest value’s location.\n",
    "You need to be careful while printing the output. Depending on your code might need data conversion.*\n"
   ]
  },
  {
   "cell_type": "code",
   "execution_count": 2,
   "metadata": {
    "colab": {},
    "colab_type": "code",
    "id": "kXbEh1t3U1zV"
   },
   "outputs": [
    {
     "name": "stdout",
     "output_type": "stream",
     "text": [
      "Enter Number=3\n",
      "Enter Number=3\n",
      "Enter Number=3\n",
      "Enter Number=3\n",
      "Enter Number=3\n",
      "list: [3, 3, 3, 3, 3]\n",
      "Largest number 3 was found at location 0\n"
     ]
    }
   ],
   "source": [
    "x=list()\n",
    "for i in range(5):\n",
    "    num=int(input(\"Enter Number=\"))\n",
    "    x.append(num)\n",
    "    largest=x[0]\n",
    "for i in x:\n",
    "    if(i>largest):\n",
    "        largest=i\n",
    "print(\"list:\", x)\n",
    "print(\"Largest number\",largest,\"was found at location\",x.index(largest))"
   ]
  },
  {
   "cell_type": "markdown",
   "metadata": {
    "colab_type": "text",
    "id": "lvSiLaobU1zY"
   },
   "source": [
    "### Task 12\n",
    "\n",
    "Write a Python program that reads 5 numbers into a list and prints the smallest and largest number and their location in the list. <font color='red'>[You are not allowed to use the max(), min(), sort(), sorted() function here]</font>\n",
    "\n",
    "**Example:**\\\n",
    "If the user enters 7, 13, -5, 10, 6 then your program should print\\\n",
    "“list: [7, 13, -5, 10, 6]”\\\n",
    "“Smallest number -5 was found at location 2”.\\\n",
    "“Largest number 13 was found at location 1”.\n",
    "\n",
    "*Hint: Assume, the first input to be the largest value and the location of the first input which is 0 to be the initial value of the largest value’s location. Similarly, assume the first input to be the smallest value and the location of the first input which is 0 to be the initial value of the smallest value’s location.\n",
    "You need to be careful while printing the output. Depending on your code might need data conversion.*\n"
   ]
  },
  {
   "cell_type": "code",
   "execution_count": null,
   "metadata": {
    "colab": {},
    "colab_type": "code",
    "id": "yiS5TWSDU1zY"
   },
   "outputs": [],
   "source": [
    "#Todo"
   ]
  }
 ],
 "metadata": {
  "colab": {
   "collapsed_sections": [],
   "name": "CSE110 Assignment03.ipynb",
   "provenance": []
  },
  "kernelspec": {
   "display_name": "Python 3",
   "language": "python",
   "name": "python3"
  },
  "language_info": {
   "codemirror_mode": {
    "name": "ipython",
    "version": 3
   },
   "file_extension": ".py",
   "mimetype": "text/x-python",
   "name": "python",
   "nbconvert_exporter": "python",
   "pygments_lexer": "ipython3",
   "version": "3.7.4"
  }
 },
 "nbformat": 4,
 "nbformat_minor": 1
}
