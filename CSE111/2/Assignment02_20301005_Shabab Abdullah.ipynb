{
 "cells": [
  {
   "cell_type": "code",
   "execution_count": 1,
   "id": "a80da2ed",
   "metadata": {},
   "outputs": [
    {
     "name": "stdout",
     "output_type": "stream",
     "text": [
      "Enter the first number:5\n",
      "Enter the second number:2\n",
      "0.5\n"
     ]
    }
   ],
   "source": [
    "#task 01\n",
    "\n",
    "def my_function(x, y):\n",
    "    try:\n",
    "        result = ((x % y) / y)\n",
    "        print(result)\n",
    "    except ZeroDivisionError:\n",
    "        print(0)\n",
    "\n",
    "\n",
    "a = int(input(\"Enter the first number:\"))\n",
    "b = int(input(\"Enter the second number:\"))\n",
    "\n",
    "my_function(a, b)\n"
   ]
  },
  {
   "cell_type": "code",
   "execution_count": 2,
   "id": "80cb46a4",
   "metadata": {},
   "outputs": [
    {
     "name": "stdout",
     "output_type": "stream",
     "text": [
      "Enter your height:175\n",
      "Enter your weight:96\n",
      "Score is 31.346938775510203 .You are Obese\n"
     ]
    }
   ],
   "source": [
    "#task 02\n",
    "\n",
    "def my_function(x, y):\n",
    "    a= x / 100\n",
    "    bmi= y / (a * a)\n",
    "    return bmi\n",
    "\n",
    "height=int(input(\"Enter your height:\"))\n",
    "weight=int(input(\"Enter your weight:\"))\n",
    "\n",
    "a= my_function(height,weight)\n",
    "print(\"Score is\",a,\".You are \",end=\"\")\n",
    "if(a<18.5):\n",
    "    print(\"Unerweight\")\n",
    "elif(a>=18.6 and a<=24.9):\n",
    "    print(\"Normal\")\n",
    "elif(a>=25 and a<=30):\n",
    "    print(\"Overweight\")\n",
    "else:\n",
    "    print(\"Obese\")"
   ]
  },
  {
   "cell_type": "code",
   "execution_count": 3,
   "id": "0a1bc160",
   "metadata": {},
   "outputs": [
    {
     "name": "stdout",
     "output_type": "stream",
     "text": [
      "Enter minimum value:0\n",
      "Enter maximum value:10\n",
      "Enter divisor value:2\n",
      "20\n"
     ]
    }
   ],
   "source": [
    "#task 03\n",
    "\n",
    "def my_function(x, y, z):\n",
    "    sum = 0\n",
    "\n",
    "    for i in range(x, y):\n",
    "        if i % z == 0:\n",
    "            sum = sum + i\n",
    "    return sum\n",
    "\n",
    "minimum = int(input(\"Enter minimum value:\"))\n",
    "maximum = int(input(\"Enter maximum value:\"))\n",
    "divisor = int(input(\"Enter divisor value:\"))\n",
    "\n",
    "my_function(minimum, maximum, divisor)\n",
    "print(my_function(minimum, maximum, divisor))"
   ]
  },
  {
   "cell_type": "code",
   "execution_count": 5,
   "id": "01129826",
   "metadata": {},
   "outputs": [
    {
     "name": "stdout",
     "output_type": "stream",
     "text": [
      "Enter Burger_Name:Beef Burger\n",
      "Enter Address:Dhanmondi\n",
      "243.6\n"
     ]
    }
   ],
   "source": [
    "#task 04\n",
    "\n",
    "def order_function(Burger_Name, Address='Mohakhali'):\n",
    "    x = 0\n",
    "    if Burger_Name == 'BBQ Chicken Cheese Burger':\n",
    "        x = 250\n",
    "    elif Burger_Name == \"Beef Burger\":\n",
    "        x = 170\n",
    "    elif Burger_Name == 'Naga Drums':\n",
    "        x = 200\n",
    "\n",
    "    if Address == 'Mohakhali':\n",
    "        Total_price = x + 40 + ((x * 8) / 100)\n",
    "    else:\n",
    "        Total_price = x + 60 + ((x * 8) / 100)\n",
    "    return Total_price\n",
    "\n",
    "Burger_Name = input(\"Enter Burger_Name:\")\n",
    "Address = input(\"Enter Address:\")\n",
    "\n",
    "print(order_function(Burger_Name,Address))"
   ]
  },
  {
   "cell_type": "code",
   "execution_count": 6,
   "id": "720c6a5c",
   "metadata": {},
   "outputs": [
    {
     "name": "stdout",
     "output_type": "stream",
     "text": [
      "Changed:bob@sheba.xyz\n"
     ]
    }
   ],
   "source": [
    "#task 05\n",
    "\n",
    "def sheba_function(*argv):\n",
    "    if len(argv)==2:\n",
    "        return \"Unchanged\" + \" :\" + argv[0]\n",
    "    elif len(argv)==3:\n",
    "        a=argv[0].split(\"@\")\n",
    "        if a[1]!=argv[1]:\n",
    "            a[1]=argv[1]\n",
    "    x=\"\"\n",
    "    x+=a[0] + \"@\" + a[1]\n",
    "    return \"Changed\" +\":\"+ x\n",
    "print(sheba_function(\"bob@sheba.xyz\",\"sheba.xyz\", \"kaaj.com\"))"
   ]
  },
  {
   "cell_type": "code",
   "execution_count": 7,
   "id": "34bde3d5",
   "metadata": {},
   "outputs": [
    {
     "name": "stdout",
     "output_type": "stream",
     "text": [
      "Type a name:Steve Jobs\n",
      "Vowels: e,e,o, Total number of vowels: 3\n"
     ]
    }
   ],
   "source": [
    "#task 06\n",
    "\n",
    "x= input(\"Type a name:\")\n",
    "def name(a: object) -> object:\n",
    "\n",
    "    VOWELS=''\n",
    "    COUNT=0\n",
    "    for i in a:\n",
    "        if i in \"AEIOUaeiou\":\n",
    "            VOWELS+=i + \",\"\n",
    "            COUNT+=1\n",
    "    print(\"Vowels:\",VOWELS, \"Total number of vowels:\",COUNT)\n",
    "name(x)\n"
   ]
  },
  {
   "cell_type": "code",
   "execution_count": 8,
   "id": "6e2d8de7",
   "metadata": {},
   "outputs": [
    {
     "name": "stdout",
     "output_type": "stream",
     "text": [
      "Enter an input: madam\n",
      "palindrome\n"
     ]
    }
   ],
   "source": [
    "#task 07\n",
    "\n",
    "def my_function(name):\n",
    "    x = ''\n",
    "    y = ''\n",
    "    for i in name:\n",
    "        if i == ' ':\n",
    "            x = x + i\n",
    "        else:\n",
    "            y = y + i\n",
    "\n",
    "    new_name: str = ''\n",
    "    new_name = y[-1::-1]\n",
    "\n",
    "    if new_name == y:\n",
    "        print(\"palindrome\")\n",
    "    else:\n",
    "        print('Not a palindrome')\n",
    "\n",
    "\n",
    "s = input(\"Enter an input: \")\n",
    "my_function(s)\n"
   ]
  },
  {
   "cell_type": "code",
   "execution_count": 9,
   "id": "e89fba96",
   "metadata": {},
   "outputs": [
    {
     "name": "stdout",
     "output_type": "stream",
     "text": [
      "Enter the day number:4320\n",
      "11 years, 10 months and 5 days\n"
     ]
    }
   ],
   "source": [
    "#task 08\n",
    "\n",
    "def day_claculator(x):\n",
    "    years = x // 365\n",
    "    i = x % 365\n",
    "    months = i // 30\n",
    "    days = i % 30\n",
    "\n",
    "    print(years, 'years,', months, 'months and', days, 'days')\n",
    "\n",
    "\n",
    "day_claculator(int(input('Enter the day number:')))"
   ]
  },
  {
   "cell_type": "code",
   "execution_count": null,
   "id": "3005d99f",
   "metadata": {},
   "outputs": [],
   "source": []
  }
 ],
 "metadata": {
  "kernelspec": {
   "display_name": "Python 3",
   "language": "python",
   "name": "python3"
  },
  "language_info": {
   "codemirror_mode": {
    "name": "ipython",
    "version": 3
   },
   "file_extension": ".py",
   "mimetype": "text/x-python",
   "name": "python",
   "nbconvert_exporter": "python",
   "pygments_lexer": "ipython3",
   "version": "3.8.8"
  }
 },
 "nbformat": 4,
 "nbformat_minor": 5
}
