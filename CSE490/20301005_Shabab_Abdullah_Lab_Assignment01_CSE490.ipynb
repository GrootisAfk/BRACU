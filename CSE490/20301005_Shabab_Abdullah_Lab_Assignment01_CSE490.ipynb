{
  "nbformat": 4,
  "nbformat_minor": 0,
  "metadata": {
    "colab": {
      "provenance": []
    },
    "kernelspec": {
      "name": "python3",
      "display_name": "Python 3"
    },
    "language_info": {
      "name": "python"
    }
  },
  "cells": [
    {
      "cell_type": "code",
      "source": [
        "!pip install pycryptodome"
      ],
      "metadata": {
        "colab": {
          "base_uri": "https://localhost:8080/"
        },
        "id": "VdTJIRC3i3T6",
        "outputId": "e03fbf12-80ed-4aec-d76e-ac09874abf4b"
      },
      "execution_count": null,
      "outputs": [
        {
          "output_type": "stream",
          "name": "stdout",
          "text": [
            "Collecting pycryptodome\n",
            "  Downloading pycryptodome-3.20.0-cp35-abi3-manylinux_2_17_x86_64.manylinux2014_x86_64.whl.metadata (3.4 kB)\n",
            "Downloading pycryptodome-3.20.0-cp35-abi3-manylinux_2_17_x86_64.manylinux2014_x86_64.whl (2.1 MB)\n",
            "\u001b[?25l   \u001b[90m━━━━━━━━━━━━━━━━━━━━━━━━━━━━━━━━━━━━━━━━\u001b[0m \u001b[32m0.0/2.1 MB\u001b[0m \u001b[31m?\u001b[0m eta \u001b[36m-:--:--\u001b[0m\r\u001b[2K   \u001b[91m━━━━━\u001b[0m\u001b[90m╺\u001b[0m\u001b[90m━━━━━━━━━━━━━━━━━━━━━━━━━━━━━━━━━━\u001b[0m \u001b[32m0.3/2.1 MB\u001b[0m \u001b[31m8.3 MB/s\u001b[0m eta \u001b[36m0:00:01\u001b[0m\r\u001b[2K   \u001b[91m━━━━━━━━━━━━━━━━━━━━━━━━━━━━━━━━━━━━━━━\u001b[0m\u001b[91m╸\u001b[0m \u001b[32m2.1/2.1 MB\u001b[0m \u001b[31m36.0 MB/s\u001b[0m eta \u001b[36m0:00:01\u001b[0m\r\u001b[2K   \u001b[90m━━━━━━━━━━━━━━━━━━━━━━━━━━━━━━━━━━━━━━━━\u001b[0m \u001b[32m2.1/2.1 MB\u001b[0m \u001b[31m26.7 MB/s\u001b[0m eta \u001b[36m0:00:00\u001b[0m\n",
            "\u001b[?25hInstalling collected packages: pycryptodome\n",
            "Successfully installed pycryptodome-3.20.0\n"
          ]
        }
      ]
    },
    {
      "cell_type": "code",
      "source": [
        "from google.colab import drive\n",
        "drive.mount('/content/drive')"
      ],
      "metadata": {
        "id": "i5ondbmrSywR",
        "colab": {
          "base_uri": "https://localhost:8080/"
        },
        "outputId": "5efa8ffa-f634-4967-88cb-1397884298a7"
      },
      "execution_count": 27,
      "outputs": [
        {
          "output_type": "stream",
          "name": "stdout",
          "text": [
            "Mounted at /content/drive\n"
          ]
        }
      ]
    },
    {
      "cell_type": "markdown",
      "source": [
        "**Task-1**"
      ],
      "metadata": {
        "id": "I3tDyf4iA68O"
      }
    },
    {
      "cell_type": "code",
      "execution_count": null,
      "metadata": {
        "colab": {
          "base_uri": "https://localhost:8080/"
        },
        "id": "a7X0vmhDiMXo",
        "outputId": "f4793f95-559c-4f2f-c704-d03134a04449"
      },
      "outputs": [
        {
          "output_type": "stream",
          "name": "stdout",
          "text": [
            "AES Encryption/Decryption Application\n",
            "Select AES mode (ECB/CBC): CBC\n",
            "Select operation (Encrypt/Decrypt): Encrypt\n",
            "Enter the key (16, 24, or 32 bytes): 1234567890ABCDEF\n",
            "Enter the plaintext: My sensitive data that needs encryption.\n",
            "Ciphertext (hex): d32e24958da17bff6dad5730accf9c5ed200502f1103eb145cef304f2158ee0a5b7b3c9dd6e85abd077e6d5ef40a0ebdf8d3cdc2017f01a38253d1d81ffd3a77\n"
          ]
        }
      ],
      "source": [
        "from Crypto.Cipher import AES\n",
        "from Crypto.Util.Padding import pad, unpad\n",
        "from Crypto.Random import get_random_bytes\n",
        "\n",
        "# Function to encrypt using AES\n",
        "def aes_encrypt(plaintext, key, mode):\n",
        "    key = key.encode('utf-8')\n",
        "\n",
        "    if mode == 'ECB':\n",
        "        cipher = AES.new(key, AES.MODE_ECB)\n",
        "        ciphertext = cipher.encrypt(pad(plaintext.encode('utf-8'), AES.block_size))\n",
        "        return ciphertext.hex()\n",
        "\n",
        "    elif mode == 'CBC':\n",
        "        iv = get_random_bytes(AES.block_size)\n",
        "        cipher = AES.new(key, AES.MODE_CBC, iv)\n",
        "        ciphertext = cipher.encrypt(pad(plaintext.encode('utf-8'), AES.block_size))\n",
        "        return (iv + ciphertext).hex()\n",
        "\n",
        "# Function to decrypt using AES\n",
        "def aes_decrypt(ciphertext, key, mode):\n",
        "    key = key.encode('utf-8')\n",
        "    ciphertext = bytes.fromhex(ciphertext)\n",
        "\n",
        "    if mode == 'ECB':\n",
        "        cipher = AES.new(key, AES.MODE_ECB)\n",
        "        plaintext = unpad(cipher.decrypt(ciphertext), AES.block_size).decode('utf-8')\n",
        "        return plaintext\n",
        "\n",
        "    elif mode == 'CBC':\n",
        "        iv = ciphertext[:AES.block_size]\n",
        "        ciphertext = ciphertext[AES.block_size:]\n",
        "        cipher = AES.new(key, AES.MODE_CBC, iv)\n",
        "        plaintext = unpad(cipher.decrypt(ciphertext), AES.block_size).decode('utf-8')\n",
        "        return plaintext\n",
        "\n",
        "# Main program\n",
        "def main():\n",
        "    print(\"AES Encryption/Decryption Application\")\n",
        "    mode = input(\"Select AES mode (ECB/CBC): \").strip().upper()\n",
        "\n",
        "    if mode not in ['ECB', 'CBC']:\n",
        "        print(\"Invalid mode selected. Please select either 'ECB' or 'CBC'.\")\n",
        "        return\n",
        "\n",
        "    operation = input(\"Select operation (Encrypt/Decrypt): \").strip().lower()\n",
        "\n",
        "    if operation not in ['encrypt', 'decrypt']:\n",
        "        print(\"Invalid operation. Please select either 'Encrypt' or 'Decrypt'.\")\n",
        "        return\n",
        "\n",
        "    key = input(\"Enter the key (16, 24, or 32 bytes): \").strip()\n",
        "    if len(key) not in [16, 24, 32]:\n",
        "        print(\"Invalid key length. Key must be 16, 24, or 32 bytes long.\")\n",
        "        return\n",
        "\n",
        "    if operation == 'encrypt':\n",
        "        plaintext = input(\"Enter the plaintext: \").strip()\n",
        "        ciphertext = aes_encrypt(plaintext, key, mode)\n",
        "        print(f\"Ciphertext (hex): {ciphertext}\")\n",
        "\n",
        "    elif operation == 'decrypt':\n",
        "        ciphertext = input(\"Enter the ciphertext (hex): \").strip()\n",
        "        try:\n",
        "            plaintext = aes_decrypt(ciphertext, key, mode)\n",
        "            print(f\"Plaintext: {plaintext}\")\n",
        "        except ValueError:\n",
        "            print(\"Decryption failed. Invalid key or ciphertext.\")\n",
        "\n",
        "if __name__ == \"__main__\":\n",
        "    main()\n"
      ]
    },
    {
      "cell_type": "markdown",
      "source": [
        "**Task-2**\n"
      ],
      "metadata": {
        "id": "pQgE8HsTkE40"
      }
    },
    {
      "cell_type": "code",
      "source": [
        "from Crypto.PublicKey import RSA\n",
        "\n",
        "#Write key to file\n",
        "key = RSA.generate(4096)\n",
        "privateKey = key.exportKey()\n",
        "file1 = open('/content/drive/MyDrive/490/keyfile.pem', 'wb')\n",
        "file1.write(privateKey)\n",
        "file1.close()\n",
        "\n",
        "#Read key from file\n",
        "file2 = open('keyfile.pem', 'rb')\n",
        "key = RSA.importKey(file2.read()) #this is the problem"
      ],
      "metadata": {
        "id": "ocb9mIXFSuRZ"
      },
      "execution_count": 29,
      "outputs": []
    },
    {
      "cell_type": "code",
      "source": [
        "from Crypto.PublicKey import RSA\n",
        "from Crypto.Cipher import PKCS1_OAEP\n",
        "import base64\n",
        "\n",
        "# Function to generate and write RSA private key to a file\n",
        "def generate_and_save_key(filename):\n",
        "    key = RSA.generate(4096)\n",
        "    private_key = key.export_key()\n",
        "    with open(filename, 'wb') as key_file:\n",
        "        key_file.write(private_key)\n",
        "    print(f\"Private key written to {filename}\")\n",
        "\n",
        "# Function to read RSA private key from a file\n",
        "def read_private_key_from_file(filename):\n",
        "    with open(filename, 'rb') as key_file:\n",
        "        return RSA.import_key(key_file.read())\n",
        "\n",
        "# Function to encrypt using RSA\n",
        "def rsa_encrypt(plaintext, public_key):\n",
        "    cipher = PKCS1_OAEP.new(public_key)\n",
        "    ciphertext = cipher.encrypt(plaintext.encode('utf-8'))\n",
        "    return base64.b64encode(ciphertext).decode('utf-8')\n",
        "\n",
        "# Function to decrypt using RSA\n",
        "def rsa_decrypt(ciphertext, private_key):\n",
        "    cipher = PKCS1_OAEP.new(private_key)\n",
        "    ciphertext = base64.b64decode(ciphertext.encode('utf-8'))\n",
        "    plaintext = cipher.decrypt(ciphertext).decode('utf-8')\n",
        "    return plaintext\n",
        "\n",
        "# Main program for encryption/decryption\n",
        "def main():\n",
        "    print(\"RSA Encryption/Decryption Application\")\n",
        "\n",
        "    operation = input(\"Select operation (Generate Key/Encrypt/Decrypt): \").strip().lower()\n",
        "\n",
        "    if operation == 'generate key':\n",
        "        filename = input(\"Enter the file name to save the key (e.g., keyfile.pem): \").strip()\n",
        "        generate_and_save_key(filename)\n",
        "\n",
        "    elif operation == 'encrypt':\n",
        "        plaintext = input(\"Enter the plaintext: \").strip()\n",
        "        public_key_file = input(\"Enter the RSA key file (PEM format): \").strip()\n",
        "        try:\n",
        "            public_key = read_private_key_from_file(public_key_file).publickey()  # Get public key from private key\n",
        "            ciphertext = rsa_encrypt(plaintext, public_key)\n",
        "            print(f\"Ciphertext (base64): {ciphertext}\")\n",
        "        except ValueError as e:\n",
        "            print(f\"Encryption error: {e}\")\n",
        "\n",
        "    elif operation == 'decrypt':\n",
        "        ciphertext = input(\"Enter the ciphertext (base64): \").strip()\n",
        "        private_key_file = input(\"Enter the RSA key file (PEM format): \").strip()\n",
        "        try:\n",
        "            private_key = read_private_key_from_file(private_key_file)  # Read the private key from file\n",
        "            plaintext = rsa_decrypt(ciphertext, private_key)\n",
        "            print(f\"Plaintext: {plaintext}\")\n",
        "        except ValueError as e:\n",
        "            print(f\"Decryption error: {e}\")\n",
        "\n",
        "    else:\n",
        "        print(\"Invalid operation. Please select 'Generate Key', 'Encrypt', or 'Decrypt'.\")\n",
        "\n",
        "if __name__ == \"__main__\":\n",
        "    main()\n"
      ],
      "metadata": {
        "colab": {
          "base_uri": "https://localhost:8080/"
        },
        "id": "ZTdM2UsDU2IX",
        "outputId": "4861f96a-4586-4ecb-f9ae-53bbf4ca69d9"
      },
      "execution_count": 32,
      "outputs": [
        {
          "output_type": "stream",
          "name": "stdout",
          "text": [
            "RSA Encryption/Decryption Application\n",
            "Select operation (Generate Key/Encrypt/Decrypt): encrypt\n",
            "Enter the plaintext: Hello I am Groot\n",
            "Enter the RSA key file (PEM format): /content/drive/MyDrive/490/keyfile.pem\n",
            "Ciphertext (base64): Oz4m9hZkf0Tg6hEJMXNWAMIsINnCBdOhYlG7vDZQtbf52N8djWoDZ2dHhw/yObOhEaUUWp0+fT+WHEKSqnPsWg6KmU2qayE0OaBjPvwYL4bhfCGFi1Rs5UeCI8mFt8jr78KTwYNG8ursYc/xnkkgpyT1ryINdfEumWwC05scNTezmG+hOsetT2cKTbuCnHjZBxZYkZtx3D66D1HCugH0NUFQQ+Pz7er6jh6Z+DwkPvBxC/xw7HHyma4ppBaN3IXdbL4Mf/eNLMCvBSWenynjcT8GG6HUt4ke1QqcqaT72Vk2PYipLC7vu+HMzUJmIurmQI+FRLuEpbzbOwLYx5whyAGdof3q7U7rfR0t+rqNt5UjJxdkTG8dQ88yxFYdJMt56Nbsl2vbs6zvTZ+ltPmP5dO+Ci3B5isrLM3ULai6Ly707HHQSjBhTF6i9xqNS5j6NYeg6Q10MJis2p86NjO0Xtma/j0e32ns5yZQehGwogAXjuUBXl/ORTawQ148/baMitK3rZmKUmG8wy11UgusSP/A117aQezLaZLlzvAQKbbSabJDv1ysM40H156DCSCOpM8CTPK3Bs8LqC7KtWfKOF2ltZQ34jN3bvUMYNU2n1cQnxptLvFWqJb2LqtQI3zwx/ls3fgKiNlV0es69fua7AVpdwCV7JHzk+3tsQxG6jA=\n"
          ]
        }
      ]
    },
    {
      "cell_type": "markdown",
      "source": [
        "**Task-3**"
      ],
      "metadata": {
        "id": "YTKciJk6Bmol"
      }
    },
    {
      "cell_type": "code",
      "source": [
        "import hashlib\n",
        "\n",
        "# Function to hash using SHA1\n",
        "def hash_sha1(plaintext):\n",
        "    sha1_hash = hashlib.sha1(plaintext.encode('utf-8')).hexdigest()\n",
        "    return sha1_hash\n",
        "\n",
        "# Function to hash using SHA256\n",
        "def hash_sha256(plaintext):\n",
        "    sha256_hash = hashlib.sha256(plaintext.encode('utf-8')).hexdigest()\n",
        "    return sha256_hash\n",
        "\n",
        "# Main program for hashing\n",
        "def main():\n",
        "    print(\"Hashing Application\")\n",
        "\n",
        "    plaintext = input(\"Enter the plaintext to hash: \").strip()\n",
        "    hash_mode = input(\"Select hash mode (SHA1/SHA256): \").strip().upper()\n",
        "\n",
        "    if hash_mode == 'SHA1':\n",
        "        print(f\"SHA1 Hash: {hash_sha1(plaintext)}\")\n",
        "    elif hash_mode == 'SHA256':\n",
        "        print(f\"SHA256 Hash: {hash_sha256(plaintext)}\")\n",
        "    else:\n",
        "        print(\"Invalid hash mode. Please select either 'SHA1' or 'SHA256'.\")\n",
        "\n",
        "if __name__ == \"__main__\":\n",
        "    main()\n"
      ],
      "metadata": {
        "colab": {
          "base_uri": "https://localhost:8080/"
        },
        "id": "k4ZpFgIABBz7",
        "outputId": "3464bff5-ff8a-4489-edc6-1b88c19f5818"
      },
      "execution_count": null,
      "outputs": [
        {
          "output_type": "stream",
          "name": "stdout",
          "text": [
            "Hashing Application\n",
            "Enter the plaintext to hash: Hello World\n",
            "Select hash mode (SHA1/SHA256): SHA1\n",
            "SHA1 Hash: 0a4d55a8d778e5022fab701977c5d840bbc486d0\n"
          ]
        }
      ]
    },
    {
      "cell_type": "markdown",
      "source": [
        "**Task-4**"
      ],
      "metadata": {
        "id": "QV_SrDyTYLJ4"
      }
    },
    {
      "cell_type": "code",
      "source": [
        "from Crypto.PublicKey import RSA\n",
        "from Crypto.Signature import pkcs1_15\n",
        "from Crypto.Hash import SHA256\n",
        "import base64\n",
        "\n",
        "# Function to read RSA key from a .pem file\n",
        "def read_key_from_pem_file(filename):\n",
        "    with open(filename, 'rb') as key_file:\n",
        "        return RSA.import_key(key_file.read())\n",
        "\n",
        "# Function to sign a message using RSA private key\n",
        "def rsa_sign(message, private_key):\n",
        "    h = SHA256.new(message.encode('utf-8'))\n",
        "    signature = pkcs1_15.new(private_key).sign(h)\n",
        "    return base64.b64encode(signature).decode('utf-8')\n",
        "\n",
        "# Function to verify the signature using RSA public key\n",
        "def rsa_verify(message, signature, public_key):\n",
        "    h = SHA256.new(message.encode('utf-8'))\n",
        "    try:\n",
        "        pkcs1_15.new(public_key).verify(h, base64.b64decode(signature.encode('utf-8')))\n",
        "        return True\n",
        "    except (ValueError, TypeError):\n",
        "        return False\n",
        "\n",
        "# Main program for digital signature generation and verification\n",
        "def main():\n",
        "    print(\"RSA Digital Signature Application\")\n",
        "\n",
        "    operation = input(\"Select operation (Generation/Verification): \").strip().lower()\n",
        "\n",
        "    if operation == \"generation\":\n",
        "        message = input(\"Enter the message to sign: \").strip()\n",
        "        private_key_file = input(\"Enter the path to the RSA private key file (e.g., /path/to/private_key.pem): \").strip()\n",
        "\n",
        "        try:\n",
        "            private_key = read_key_from_pem_file(private_key_file)\n",
        "            signature = rsa_sign(message, private_key)\n",
        "            print(f\"Generated Signature (base64): {signature}\")\n",
        "        except ValueError as e:\n",
        "            print(f\"Signing error: {e}\")\n",
        "        except FileNotFoundError:\n",
        "            print(f\"Error: Private key file '{private_key_file}' not found.\")\n",
        "\n",
        "    elif operation == \"verification\":\n",
        "        message = input(\"Enter the original message: \").strip()\n",
        "        signature = input(\"Enter the signature (base64): \").strip()\n",
        "        public_key_file = input(\"Enter the path to the RSA public key file (e.g., /path/to/public_key.pem): \").strip()\n",
        "\n",
        "        try:\n",
        "            public_key = read_key_from_pem_file(public_key_file)\n",
        "            if rsa_verify(message, signature, public_key):\n",
        "                print(\"Signature is valid and message is authentic.\")\n",
        "            else:\n",
        "                print(\"Signature is invalid or the message has been altered.\")\n",
        "        except FileNotFoundError:\n",
        "            print(f\"Error: Public key file '{public_key_file}' not found.\")\n",
        "\n",
        "    else:\n",
        "        print(\"Invalid operation. Please select 'Generation' or 'Verification'.\")\n",
        "\n",
        "if __name__ == \"__main__\":\n",
        "    main()\n"
      ],
      "metadata": {
        "colab": {
          "base_uri": "https://localhost:8080/"
        },
        "id": "YEMiDeL_ZJL9",
        "outputId": "fbe52ccf-4ca0-4a82-c454-1f3f6590b027"
      },
      "execution_count": 34,
      "outputs": [
        {
          "output_type": "stream",
          "name": "stdout",
          "text": [
            "RSA Digital Signature Application\n",
            "Select operation (Generation/Verification): Generation\n",
            "Enter the message to sign: Hello I am GROOT\n",
            "Enter the path to the RSA private key file (e.g., /path/to/private_key.pem): /content/drive/MyDrive/490/keyfile.pem\n",
            "Generated Signature (base64): LylWussRve10Rez0sEiK1EQUlSS0V02WOdKsKIJYfVLeFd4AYEK4yWCTPQUbfpho8hYPm7LcxCq29Yb1JcGx60pYBCTM2+SDG2oCmjbrGTETla8PSWqkfzNfZpth/zB9FaNGDBp5VKZ6/KqrrLV6d0Rk86tXa0p53SRFCUb0H9lIAGk+Uy79IA/76bvVuUeXL1sL9sAVNbo/cQsKMpx9U6+vhzlem24MvlAuLUr/P3qqCY+3SSrpkKwWyL5rjgyz3Hn4vOZyBvEeRuV2zSK8QXrI1x/xbEGqUoNPv7ypjjLyqnOQbtSGZpDu0Jpk6g7WC5YUrSyAV1YIrzQW8WOWwbZDUG6OxiABAq1zL+DHlfMi6iNU/z4u5U6yG1jyV7b2TZa4TuWIi3I6/CUEJqhyD431D04WQOp0uUvDiVTv/shWT0X7MR5OJQ757wH/ZLF7XaN40waGFjbYtmNVMc+fVJZ0w5sJLUxSWUxUR6I6WeJfz117NomXpFLW1UO93aYEIKaMjFdk/wPg/zV13SD8uP/qoXUOKpIDrXory6NaHCH3fnP6uf3+UChGIgKBHl+ZgXimnS6NTOKMJ5o3kx2MarG4Y2v11f/dZS2aPbRYJEExkZl67mHBZkuiLDtiGo2K0aucOKcVnrtpBrqBF+hHdAOOlIHGfsWRmWKRZoIXCjQ=\n"
          ]
        }
      ]
    },
    {
      "cell_type": "markdown",
      "source": [
        "**Task-5**"
      ],
      "metadata": {
        "id": "QW9S_xqaZhUE"
      }
    },
    {
      "cell_type": "code",
      "source": [
        "from Crypto.Hash import CMAC\n",
        "from Crypto.Cipher import AES\n",
        "\n",
        "# Function to generate a MAC using CMAC and AES\n",
        "def generate_mac(message, secret_key):\n",
        "    cobj = CMAC.new(secret_key, ciphermod=AES)\n",
        "    cobj.update(message.encode('utf-8'))\n",
        "    return cobj.hexdigest()\n",
        "\n",
        "# Function to verify a MAC using CMAC and AES\n",
        "def verify_mac(message, mac, secret_key):\n",
        "    cobj = CMAC.new(secret_key, ciphermod=AES)\n",
        "    cobj.update(message.encode('utf-8'))\n",
        "    try:\n",
        "        cobj.verify(bytes.fromhex(mac))\n",
        "        print(f\"The message '{message}' is authentic.\")\n",
        "    except ValueError:\n",
        "        print(f\"The message '{message}' or the MAC is wrong.\")\n",
        "\n",
        "# Main program for MAC generation and verification\n",
        "def main():\n",
        "    print(\"MAC Generation and Verification Application\")\n",
        "\n",
        "    operation = input(\"Select operation (Generate/Verify): \").strip().lower()\n",
        "\n",
        "    secret_key = b'Sixteen byte key'  # Example secret key, 16 bytes for AES\n",
        "\n",
        "    if operation == \"generate\":\n",
        "        message = input(\"Enter the message to generate MAC for: \").strip()\n",
        "        mac = generate_mac(message, secret_key)\n",
        "        print(f\"Generated MAC (hex): {mac}\")\n",
        "\n",
        "    elif operation == \"verify\":\n",
        "        message = input(\"Enter the message to verify: \").strip()\n",
        "        mac = input(\"Enter the MAC (hex format) to verify: \").strip()\n",
        "        verify_mac(message, mac, secret_key)\n",
        "\n",
        "    else:\n",
        "        print(\"Invalid operation. Please select 'Generate' or 'Verify'.\")\n",
        "\n",
        "if __name__ == \"__main__\":\n",
        "    main()\n"
      ],
      "metadata": {
        "colab": {
          "base_uri": "https://localhost:8080/"
        },
        "id": "NCM2MInaZ7_2",
        "outputId": "4f35b7f4-2c36-44a9-8abf-ebfeabccb38f"
      },
      "execution_count": 35,
      "outputs": [
        {
          "output_type": "stream",
          "name": "stdout",
          "text": [
            "MAC Generation and Verification Application\n",
            "Select operation (Generate/Verify): Generate\n",
            "Enter the message to generate MAC for: Hello I am GROOT\n",
            "Generated MAC (hex): 5cedbae5bce069d1ae0e37f22141a049\n"
          ]
        }
      ]
    }
  ]
}