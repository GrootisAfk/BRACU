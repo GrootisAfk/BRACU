{
  "nbformat": 4,
  "nbformat_minor": 0,
  "metadata": {
    "colab": {
      "provenance": []
    },
    "kernelspec": {
      "name": "python3",
      "display_name": "Python 3"
    },
    "language_info": {
      "name": "python"
    }
  },
  "cells": [
    {
      "cell_type": "code",
      "execution_count": null,
      "metadata": {
        "id": "axM6QM9JHzcY"
      },
      "outputs": [],
      "source": [
        "#Task 04\n",
        "\n",
        "x = open(\"/content/drive/MyDrive/221Lab_INPUT OUTPUT/LAB_01/Input_04.txt\",mode=\"r\")\n",
        "y = open(\"/content/drive/MyDrive/221Lab_INPUT OUTPUT/LAB_01/Output_04.txt\",mode=\"w\")\n",
        "\n",
        "\n",
        "count = int(x.readline())\n",
        "std_id_list = x.readline().strip().split(\" \")\n",
        "std_marks_list = x.readline().strip().split(\" \")\n",
        "\n",
        "for i in range(count):\n",
        "  for j in range(count-i-1):\n",
        "    if int(std_marks_list[j]) < int(std_marks_list[j+1]):\n",
        "      std_marks_list[j], std_marks_list[j+1] = std_marks_list[j+1], std_marks_list[j]\n",
        "      std_id_list[j], std_id_list[j+1] = std_id_list[j+1], std_id_list[j]\n",
        "    \n",
        "    elif int(std_marks_list[j]) == int(std_marks_list[j+1]):\n",
        "      if int(std_id_list[j]) > int(std_id_list[j+1]):\n",
        "        std_marks_list[j], std_marks_list[j+1] = std_marks_list[j+1], std_marks_list[j]\n",
        "        std_id_list[j], std_id_list[j+1] = std_id_list[j+1], std_id_list[j]\n",
        "\n",
        "for i in range(count):\n",
        "  y.write(f\"ID: {std_id_list[i]}) Mark:{std_marks_list[i]}\")\n",
        "\n",
        "y.close()"
      ]
    }
  ]
}