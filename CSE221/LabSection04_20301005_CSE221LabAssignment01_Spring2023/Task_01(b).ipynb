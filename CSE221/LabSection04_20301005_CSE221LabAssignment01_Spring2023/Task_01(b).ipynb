{
  "nbformat": 4,
  "nbformat_minor": 0,
  "metadata": {
    "colab": {
      "provenance": []
    },
    "kernelspec": {
      "name": "python3",
      "display_name": "Python 3"
    },
    "language_info": {
      "name": "python"
    }
  },
  "cells": [
    {
      "cell_type": "code",
      "execution_count": 1,
      "metadata": {
        "id": "ZTVjFNVRqZiL",
        "outputId": "aad5ace3-5f9a-4001-bedd-44411253890f",
        "colab": {
          "base_uri": "https://localhost:8080/",
          "height": 253
        }
      },
      "outputs": [
        {
          "output_type": "error",
          "ename": "FileNotFoundError",
          "evalue": "ignored",
          "traceback": [
            "\u001b[0;31m---------------------------------------------------------------------------\u001b[0m",
            "\u001b[0;31mFileNotFoundError\u001b[0m                         Traceback (most recent call last)",
            "\u001b[0;32m<ipython-input-1-72b28c955a61>\u001b[0m in \u001b[0;36m<module>\u001b[0;34m\u001b[0m\n\u001b[1;32m      2\u001b[0m \u001b[0;31m#b\u001b[0m\u001b[0;34m\u001b[0m\u001b[0;34m\u001b[0m\u001b[0;34m\u001b[0m\u001b[0m\n\u001b[1;32m      3\u001b[0m \u001b[0;34m\u001b[0m\u001b[0m\n\u001b[0;32m----> 4\u001b[0;31m \u001b[0mx\u001b[0m \u001b[0;34m=\u001b[0m \u001b[0mopen\u001b[0m\u001b[0;34m(\u001b[0m\u001b[0;34m\"/content/drive/MyDrive/221Lab_INPUT OUTPUT/LAB_01/Input01(b).txt\"\u001b[0m\u001b[0;34m,\u001b[0m \u001b[0mmode\u001b[0m\u001b[0;34m=\u001b[0m\u001b[0;34m\"r\"\u001b[0m\u001b[0;34m)\u001b[0m\u001b[0;34m\u001b[0m\u001b[0;34m\u001b[0m\u001b[0m\n\u001b[0m\u001b[1;32m      5\u001b[0m \u001b[0mlines\u001b[0m \u001b[0;34m=\u001b[0m \u001b[0mx\u001b[0m\u001b[0;34m.\u001b[0m\u001b[0mreadlines\u001b[0m\u001b[0;34m(\u001b[0m\u001b[0;34m)\u001b[0m\u001b[0;34m\u001b[0m\u001b[0;34m\u001b[0m\u001b[0m\n\u001b[1;32m      6\u001b[0m \u001b[0my\u001b[0m \u001b[0;34m=\u001b[0m \u001b[0mopen\u001b[0m\u001b[0;34m(\u001b[0m\u001b[0;34m\"/content/drive/MyDrive/221Lab_INPUT OUTPUT/LAB_01/Output01(b).txt\"\u001b[0m\u001b[0;34m,\u001b[0m \u001b[0mmode\u001b[0m\u001b[0;34m=\u001b[0m\u001b[0;34m\"w\"\u001b[0m\u001b[0;34m)\u001b[0m\u001b[0;34m\u001b[0m\u001b[0;34m\u001b[0m\u001b[0m\n",
            "\u001b[0;31mFileNotFoundError\u001b[0m: [Errno 2] No such file or directory: '/content/drive/MyDrive/221Lab_INPUT OUTPUT/LAB_01/Input01(b).txt'"
          ]
        }
      ],
      "source": [
        "#Task 1: File I/O\n",
        "#b\n",
        "\n",
        "x = open(\"/content/drive/MyDrive/221Lab_INPUT OUTPUT/LAB_01/Input01(b).txt\", mode=\"r\")\n",
        "lines = x.readlines()\n",
        "y = open(\"/content/drive/MyDrive/221Lab_INPUT OUTPUT/LAB_01/Output01(b).txt\", mode=\"w\")\n",
        "\n",
        "indx = int(lines[0])\n",
        "\n",
        "for i in range(0,indx):\n",
        "  input = lines[i+1].split(\" \")\n",
        "\n",
        "  if input[2] == \"+\":\n",
        "    print(\"The result of\",input[1],input[2],input[3],\"is\",int(input[1]) + int(input[3]), file = y)\n",
        "  elif input[2] == \"-\":\n",
        "    print(\"The result of\",input[1],input[2],input[3],\"is\",int(input[1]) - int(input[3]), file = y)\n",
        "  elif input[2] == \"*\":\n",
        "    print(\"The result of\",input[1],input[2],input[3],\"is\",int(input[1]) * int(input[3]), file = y)\n",
        "  elif input[2] == \"/\":\n",
        "    print(\"The result of\",input[1],input[2],input[3],\"is\",int(input[1]) / int(input[3]), file = y)\n",
        "  \n",
        "y.close()"
      ]
    }
  ]
}