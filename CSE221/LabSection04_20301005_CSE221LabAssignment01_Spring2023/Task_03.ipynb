{
  "nbformat": 4,
  "nbformat_minor": 0,
  "metadata": {
    "colab": {
      "provenance": []
    },
    "kernelspec": {
      "name": "python3",
      "display_name": "Python 3"
    },
    "language_info": {
      "name": "python"
    }
  },
  "cells": [
    {
      "cell_type": "code",
      "execution_count": 1,
      "metadata": {
        "id": "ZTVjFNVRqZiL",
        "colab": {
          "base_uri": "https://localhost:8080/",
          "height": 236
        },
        "outputId": "aad5ace3-5f9a-4001-bedd-44411253890f"
      },
      "outputs": [
        {
          "output_type": "error",
          "ename": "FileNotFoundError",
          "evalue": "ignored",
          "traceback": [
            "\u001b[0;31m---------------------------------------------------------------------------\u001b[0m",
            "\u001b[0;31mFileNotFoundError\u001b[0m                         Traceback (most recent call last)",
            "\u001b[0;32m<ipython-input-1-72b28c955a61>\u001b[0m in \u001b[0;36m<module>\u001b[0;34m\u001b[0m\n\u001b[1;32m      2\u001b[0m \u001b[0;31m#b\u001b[0m\u001b[0;34m\u001b[0m\u001b[0;34m\u001b[0m\u001b[0;34m\u001b[0m\u001b[0m\n\u001b[1;32m      3\u001b[0m \u001b[0;34m\u001b[0m\u001b[0m\n\u001b[0;32m----> 4\u001b[0;31m \u001b[0mx\u001b[0m \u001b[0;34m=\u001b[0m \u001b[0mopen\u001b[0m\u001b[0;34m(\u001b[0m\u001b[0;34m\"/content/drive/MyDrive/221Lab_INPUT OUTPUT/LAB_01/Input01(b).txt\"\u001b[0m\u001b[0;34m,\u001b[0m \u001b[0mmode\u001b[0m\u001b[0;34m=\u001b[0m\u001b[0;34m\"r\"\u001b[0m\u001b[0;34m)\u001b[0m\u001b[0;34m\u001b[0m\u001b[0;34m\u001b[0m\u001b[0m\n\u001b[0m\u001b[1;32m      5\u001b[0m \u001b[0mlines\u001b[0m \u001b[0;34m=\u001b[0m \u001b[0mx\u001b[0m\u001b[0;34m.\u001b[0m\u001b[0mreadlines\u001b[0m\u001b[0;34m(\u001b[0m\u001b[0;34m)\u001b[0m\u001b[0;34m\u001b[0m\u001b[0;34m\u001b[0m\u001b[0m\n\u001b[1;32m      6\u001b[0m \u001b[0my\u001b[0m \u001b[0;34m=\u001b[0m \u001b[0mopen\u001b[0m\u001b[0;34m(\u001b[0m\u001b[0;34m\"/content/drive/MyDrive/221Lab_INPUT OUTPUT/LAB_01/Output01(b).txt\"\u001b[0m\u001b[0;34m,\u001b[0m \u001b[0mmode\u001b[0m\u001b[0;34m=\u001b[0m\u001b[0;34m\"w\"\u001b[0m\u001b[0;34m)\u001b[0m\u001b[0;34m\u001b[0m\u001b[0;34m\u001b[0m\u001b[0m\n",
            "\u001b[0;31mFileNotFoundError\u001b[0m: [Errno 2] No such file or directory: '/content/drive/MyDrive/221Lab_INPUT OUTPUT/LAB_01/Input01(b).txt'"
          ]
        }
      ],
      "source": [
        "#Task 3:\n",
        "x = open(\"/content/drive/MyDrive/221Lab_INPUT OUTPUT/LAB_01/Input03.txt\",mode=\"r\")\n",
        "y = open(\"/content/drive/MyDrive/221Lab_INPUT OUTPUT/LAB_01/Output03.txt\",mode=\"w\")\n",
        "\n",
        "lines = x.readlines()\n",
        "elements = lines[1].strip().split(\" \")\n",
        "\n",
        "idx = int(lines[0])\n",
        "\n",
        "lis = []\n",
        "\n",
        "for i in elements:\n",
        "  lis.append(int(i)) \n",
        "\n",
        "def bubblesort(idx,lis):\n",
        "  for i in range(idx-1):\n",
        "    count = 0\n",
        "    for j in range(idx-i-1):\n",
        "      if lis[j] > lis[j+1]:\n",
        "        lis[j],lis[j+1] = lis[j+1],lis[j]\n",
        "        count = count + 1\n",
        "    if count == 0:\n",
        "      break\n",
        "bubblesort(idx,lis)\n",
        "y.close()\n",
        "\n",
        "\n",
        "\"\"\" When an array is sorted then we get the best case scenario for bubble sort. So we can keep track of how many swaps the inner loop does. If it does no swaps, we may conclude that the array is already sorted. And then we break the loop. \"\"\""
      ]
    }
  ]
}