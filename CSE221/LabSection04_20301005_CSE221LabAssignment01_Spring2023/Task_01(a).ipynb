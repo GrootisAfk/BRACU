{
  "nbformat": 4,
  "nbformat_minor": 0,
  "metadata": {
    "colab": {
      "provenance": []
    },
    "kernelspec": {
      "name": "python3",
      "display_name": "Python 3"
    },
    "language_info": {
      "name": "python"
    }
  },
  "cells": [
    {
      "cell_type": "code",
      "execution_count": null,
      "metadata": {
        "id": "ZTVjFNVRqZiL"
      },
      "outputs": [],
      "source": [
        "#Task 1: File I/O\n",
        "#a\n",
        "x = open(\"/content/drive/MyDrive/221Lab_INPUT OUTPUT/LAB_01/Input01(a).txt\", mode=\"r\")\n",
        "lines = x.readlines()\n",
        "\n",
        "store = int(lines[0])\n",
        "\n",
        "y = open(\"/content/drive/MyDrive/221Lab_INPUT OUTPUT/LAB_01/Output01(a).txt\", mode=\"w\")\n",
        "\n",
        "for i in range(1,store+1):\n",
        "  number = int(lines[i])\n",
        "  if number % 2 == 0:\n",
        "    print(number,\"is an Even number.\",file=y)\n",
        "  else:\n",
        "    print(number,\"is an Odd number\",file=y)\n",
        "\n",
        "y.close()"
      ]
    }
  ]
}